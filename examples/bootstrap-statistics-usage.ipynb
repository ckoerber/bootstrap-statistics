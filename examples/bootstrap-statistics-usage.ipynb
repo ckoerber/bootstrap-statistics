{
 "cells": [
  {
   "cell_type": "markdown",
   "metadata": {},
   "source": [
    "# Import"
   ]
  },
  {
   "cell_type": "code",
   "execution_count": 1,
   "metadata": {
    "ExecuteTime": {
     "end_time": "2018-02-06T16:56:10.512082Z",
     "start_time": "2018-02-06T16:56:10.327028Z"
    }
   },
   "outputs": [],
   "source": [
    "import bootstats as boot\n",
    "import numpy as np\n",
    "import os"
   ]
  },
  {
   "cell_type": "markdown",
   "metadata": {},
   "source": [
    "First we generate random normal data as the input. The `Bootstrapper` class needs numpy arrays of shape `NVars x NConfigs`."
   ]
  },
  {
   "cell_type": "markdown",
   "metadata": {
    "ExecuteTime": {
     "end_time": "2018-02-05T13:27:09.057823Z",
     "start_time": "2018-02-05T13:27:09.054815Z"
    }
   },
   "source": [
    "# Create Bootstrapper instances"
   ]
  },
  {
   "cell_type": "code",
   "execution_count": 2,
   "metadata": {
    "ExecuteTime": {
     "end_time": "2018-02-06T16:56:10.556812Z",
     "start_time": "2018-02-06T16:56:10.514446Z"
    }
   },
   "outputs": [],
   "source": [
    "NVars1   = 128   \n",
    "NVars2   = 4   \n",
    "NConfigs = 2000    # Number of HMC samples for each observable\n",
    "\n",
    "data = np.random.normal(size=[NVars1, NVars2, NConfigs])"
   ]
  },
  {
   "cell_type": "markdown",
   "metadata": {},
   "source": [
    "One can either create a `Bootstrapper` instance from bootstrap parameters or from already generated bootstrap indices."
   ]
  },
  {
   "cell_type": "code",
   "execution_count": 3,
   "metadata": {
    "ExecuteTime": {
     "end_time": "2018-02-06T16:56:10.565206Z",
     "start_time": "2018-02-06T16:56:10.559122Z"
    }
   },
   "outputs": [],
   "source": [
    "NSamples = 1000\n",
    "NBinSize = 5\n",
    "NBins    = int(NConfigs / NBinSize)\n",
    "NSize    = NBins "
   ]
  },
  {
   "cell_type": "markdown",
   "metadata": {},
   "source": [
    "## Generate the instance from parameters"
   ]
  },
  {
   "cell_type": "code",
   "execution_count": 4,
   "metadata": {
    "ExecuteTime": {
     "end_time": "2018-02-06T16:56:10.750422Z",
     "start_time": "2018-02-06T16:56:10.566873Z"
    }
   },
   "outputs": [
    {
     "data": {
      "text/plain": [
       "Bootstrapper(NSamples=1000, NSize=400, NBinSize=5, NConfigs=2000, NVars=512, NBins=400)"
      ]
     },
     "execution_count": 4,
     "metadata": {},
     "output_type": "execute_result"
    }
   ],
   "source": [
    "bs = boot.Bootstrapper(\n",
    "    data,               # The input data\n",
    "    NSamples=NSamples,  # The number of bootstrap samples -> N_B\n",
    "    NSize=NSize,        # The size of each bootstrap samples -> N_S\n",
    "    NBinSize=NBinSize   # The size of bins before bootstrapping -> N_{BS}\n",
    ")\n",
    "bs"
   ]
  },
  {
   "cell_type": "markdown",
   "metadata": {},
   "source": [
    "This initializes the bootstrapper class which\n",
    "1. Bins the initial data according to `NBinSize` for each variable:\n",
    "    `bs.data[i] = mean(data[i:i+NBinSize])`, where the beginning is chopped of in case `NConfigs % NBinSize != 0`.\n",
    "2. Generates random indices according to a uniform distribution `U(0, NBins-1)` of shape `NSamples x NSize`."
   ]
  },
  {
   "cell_type": "code",
   "execution_count": 5,
   "metadata": {
    "ExecuteTime": {
     "end_time": "2018-02-06T16:56:10.779188Z",
     "start_time": "2018-02-06T16:56:10.752650Z"
    }
   },
   "outputs": [
    {
     "name": "stdout",
     "output_type": "stream",
     "text": [
      "Indices shape: (1000, 400)\n",
      "Indices range is range(NBins): True\n"
     ]
    }
   ],
   "source": [
    "print(\"Indices shape:\", bs.indices.shape)\n",
    "print(\"Indices range is range(NBins):\", (np.unique(bs.indices) == np.arange(NBins)).all())"
   ]
  },
  {
   "cell_type": "markdown",
   "metadata": {},
   "source": [
    "## Generate instance from indices"
   ]
  },
  {
   "cell_type": "markdown",
   "metadata": {},
   "source": [
    "Similarly, one can also create an instance by passing indices to the class. This becomes handy in case one wants to reproduce results."
   ]
  },
  {
   "cell_type": "code",
   "execution_count": 6,
   "metadata": {
    "ExecuteTime": {
     "end_time": "2018-02-06T16:56:10.946373Z",
     "start_time": "2018-02-06T16:56:10.781994Z"
    }
   },
   "outputs": [],
   "source": [
    "bs2 = boot.Bootstrapper(\n",
    "    data,               # The input data\n",
    "    NBinSize=NBinSize,  # The size of bins before bootstrapping -> N_{BS}\n",
    "    indices=bs.indices  # Bootstrap indices for accesing the data\n",
    ")"
   ]
  },
  {
   "cell_type": "code",
   "execution_count": 7,
   "metadata": {
    "ExecuteTime": {
     "end_time": "2018-02-06T16:56:10.960016Z",
     "start_time": "2018-02-06T16:56:10.950189Z"
    }
   },
   "outputs": [
    {
     "name": "stdout",
     "output_type": "stream",
     "text": [
      "Both instances have the same data, parameters and indices: True\n"
     ]
    }
   ],
   "source": [
    "print(\"Both instances have the same data, parameters and indices:\", bs == bs2)"
   ]
  },
  {
   "cell_type": "markdown",
   "metadata": {},
   "source": [
    "# Computation of bootstrap samples"
   ]
  },
  {
   "cell_type": "markdown",
   "metadata": {},
   "source": [
    "In order to compute the distribtution of means, one has to compute the mean of the binned data over each individual bootstrap sample: `bootData[nVar, nSample] = mean(binnedData[nVar, index[nSample, 0:NSize]])`. This information is stored in the `samples` member."
   ]
  },
  {
   "cell_type": "code",
   "execution_count": 8,
   "metadata": {
    "ExecuteTime": {
     "end_time": "2018-02-06T16:56:13.443247Z",
     "start_time": "2018-02-06T16:56:10.962661Z"
    }
   },
   "outputs": [
    {
     "name": "stdout",
     "output_type": "stream",
     "text": [
      "C++ result - numpy result = 0.000e+00\n"
     ]
    }
   ],
   "source": [
    "print(\"C++ result - numpy result = {:1.3e}\".format(\n",
    "    np.std(bs.samples - np.mean(bs.data[:, :, bs.indices], axis=bs.data.ndim))\n",
    "))"
   ]
  },
  {
   "cell_type": "markdown",
   "metadata": {},
   "source": [
    "Note that `bs.data` is not in general equal to the input data because of the binning..."
   ]
  },
  {
   "cell_type": "markdown",
   "metadata": {
    "ExecuteTime": {
     "end_time": "2018-02-05T13:48:21.320062Z",
     "start_time": "2018-02-05T13:48:21.315845Z"
    }
   },
   "source": [
    "Also, because this can be quite intensive to compute (also in `C++`), the `Bootstrapper` class just computes this information when accessed (it calls `bs._getSamples()` once). Therefore, only the first computation takes time."
   ]
  },
  {
   "cell_type": "markdown",
   "metadata": {},
   "source": [
    "# Test against numpy"
   ]
  },
  {
   "cell_type": "code",
   "execution_count": 9,
   "metadata": {
    "ExecuteTime": {
     "end_time": "2018-02-06T16:56:17.211969Z",
     "start_time": "2018-02-06T16:56:13.445306Z"
    }
   },
   "outputs": [
    {
     "name": "stdout",
     "output_type": "stream",
     "text": [
      "464 ms ± 8.16 ms per loop (mean ± std. dev. of 7 runs, 1 loop each)\n"
     ]
    }
   ],
   "source": [
    "%timeit bs._getSamples()"
   ]
  },
  {
   "cell_type": "code",
   "execution_count": 10,
   "metadata": {
    "ExecuteTime": {
     "end_time": "2018-02-06T16:56:32.667288Z",
     "start_time": "2018-02-06T16:56:17.214426Z"
    }
   },
   "outputs": [
    {
     "name": "stdout",
     "output_type": "stream",
     "text": [
      "1.91 s ± 63.3 ms per loop (mean ± std. dev. of 7 runs, 1 loop each)\n"
     ]
    }
   ],
   "source": [
    "%timeit np.mean(bs.data[:, :, bs.indices], axis=bs.data.ndim)"
   ]
  },
  {
   "cell_type": "markdown",
   "metadata": {},
   "source": [
    "# HDF5 IO"
   ]
  },
  {
   "cell_type": "code",
   "execution_count": 11,
   "metadata": {
    "ExecuteTime": {
     "end_time": "2018-02-06T16:56:32.680459Z",
     "start_time": "2018-02-06T16:56:32.669146Z"
    }
   },
   "outputs": [],
   "source": [
    "fileName  = \"test.h5\"\n",
    "groupName = \"testGroup\"\n",
    "bs.exportHDF5(fileName, groupName, writeSamples=True)"
   ]
  },
  {
   "cell_type": "code",
   "execution_count": 12,
   "metadata": {
    "ExecuteTime": {
     "end_time": "2018-02-06T16:56:32.831749Z",
     "start_time": "2018-02-06T16:56:32.682497Z"
    }
   },
   "outputs": [],
   "source": [
    "bs3 = boot.Bootstrapper(data, h5Info={\"fileName\":fileName, \"groupName\":groupName})"
   ]
  },
  {
   "cell_type": "code",
   "execution_count": 13,
   "metadata": {
    "ExecuteTime": {
     "end_time": "2018-02-06T16:56:32.842265Z",
     "start_time": "2018-02-06T16:56:32.833716Z"
    }
   },
   "outputs": [
    {
     "data": {
      "text/plain": [
       "True"
      ]
     },
     "execution_count": 13,
     "metadata": {},
     "output_type": "execute_result"
    }
   ],
   "source": [
    "bs3 == bs"
   ]
  },
  {
   "cell_type": "code",
   "execution_count": 14,
   "metadata": {
    "ExecuteTime": {
     "end_time": "2018-02-06T16:56:32.849474Z",
     "start_time": "2018-02-06T16:56:32.844629Z"
    }
   },
   "outputs": [],
   "source": [
    "os.remove(fileName)"
   ]
  },
  {
   "cell_type": "code",
   "execution_count": null,
   "metadata": {},
   "outputs": [],
   "source": []
  }
 ],
 "metadata": {
  "kernelspec": {
   "display_name": "Python 3",
   "language": "python",
   "name": "python3"
  },
  "language_info": {
   "codemirror_mode": {
    "name": "ipython",
    "version": 3
   },
   "file_extension": ".py",
   "mimetype": "text/x-python",
   "name": "python",
   "nbconvert_exporter": "python",
   "pygments_lexer": "ipython3",
   "version": "3.6.4"
  }
 },
 "nbformat": 4,
 "nbformat_minor": 2
}
